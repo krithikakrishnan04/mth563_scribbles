{
 "cells": [
  {
   "cell_type": "markdown",
   "metadata": {},
   "source": [
    "# Support Vector Machine (SVM)\n",
    "\n",
    "The maximum margin classifier as the solution of a **quadratic programming** problem\n"
   ]
  },
  {
   "cell_type": "markdown",
   "metadata": {},
   "source": [
    "## First cook up some data to test it on:\n"
   ]
  },
  {
   "cell_type": "code",
   "execution_count": 2,
   "metadata": {
    "collapsed": true
   },
   "outputs": [],
   "source": [
    "from numpy import *\n",
    "d = 2\n",
    "n = 30\n",
    "x = random.rand(d,n)\n",
    "X = empty((d+1,n))\n",
    "X[0,:] = 1\n",
    "X[1:,:] = x\n",
    "W = array([-1,-2,3.])\n",
    "y = sign(dot(W,X))\n",
    "# let's open up a little space between the classes\n",
    "halfgap = 0.05\n",
    "X[-1,y>0] += halfgap\n",
    "X[-1,y<0] -= halfgap\n",
    "xp = X[1:,y>0]\n",
    "xm = X[1:,y<0] \n"
   ]
  },
  {
   "cell_type": "code",
   "execution_count": 3,
   "metadata": {},
   "outputs": [
    {
     "name": "stdout",
     "output_type": "stream",
     "text": [
      "Populating the interactive namespace from numpy and matplotlib\n"
     ]
    }
   ],
   "source": [
    "%pylab inline\n"
   ]
  },
  {
   "cell_type": "code",
   "execution_count": 4,
   "metadata": {},
   "outputs": [
    {
     "data": {
      "image/png": "iVBORw0KGgoAAAANSUhEUgAAAQAAAAD8CAYAAACYVXqwAAAABHNCSVQICAgIfAhkiAAAAAlwSFlz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\nAAAASUVORK5CYII=\n",
      "text/plain": [
       "<matplotlib.figure.Figure at 0x7faee4caac18>"
      ]
     },
     "metadata": {},
     "output_type": "display_data"
    }
   ],
   "source": [
    "subplot(111,aspect=1)\n",
    "plot(xp[0],xp[1],'ro')\n",
    "plot(xm[0],xm[1],'bo');\n",
    "# We are given X and y ONLY!!\n",
    "\n",
    "def drawline(W,color='g',alpha=1.):\n",
    "    plot([0,1],[-W[0]/W[2],-(W[0]+W[1])/W[2]],color=color,alpha=alpha)\n",
    "    "
   ]
  },
  {
   "cell_type": "code",
   "execution_count": 5,
   "metadata": {},
   "outputs": [
    {
     "data": {
      "text/plain": [
       "array([[ 0.13577905,  0.8282536 ,  0.46770308,  0.79967982,  0.68816462,\n",
       "         0.07086975,  0.07193   ,  0.97503846,  0.14493637,  0.08499178,\n",
       "         0.93114639,  0.05452655,  0.47839125,  0.20533181,  0.19010223,\n",
       "         0.05319154,  0.15529897,  0.1022728 ,  0.23162895,  0.58768487,\n",
       "         0.37667629,  0.23813934,  0.12316873,  0.32022026,  0.41041671,\n",
       "         0.79785402,  0.66516592,  0.43968622,  0.96499385,  0.71751459],\n",
       "       [ 0.41678629,  0.22000458,  0.7752378 ,  0.55158108,  0.19727671,\n",
       "         0.39298912,  0.55296688,  0.62507127,  0.1458538 ,  0.3424259 ,\n",
       "         0.46269581,  0.94187078,  0.74855845,  0.36953643,  0.89696982,\n",
       "         0.55538549,  0.11397625,  0.12380137,  0.65672892,  0.840873  ,\n",
       "         0.27065337,  0.81617846,  0.75060502,  0.58339587,  0.54463797,\n",
       "         0.33720974,  0.72767298,  0.48433641,  0.44060051,  0.86146407]])"
      ]
     },
     "execution_count": 5,
     "metadata": {},
     "output_type": "execute_result"
    }
   ],
   "source": [
    "x"
   ]
  },
  {
   "cell_type": "code",
   "execution_count": 6,
   "metadata": {},
   "outputs": [
    {
     "data": {
      "text/plain": [
       "array([-1., -1.,  1., -1., -1.,  1.,  1., -1., -1., -1., -1.,  1.,  1.,\n",
       "       -1.,  1.,  1., -1., -1.,  1.,  1., -1.,  1.,  1.,  1., -1., -1.,\n",
       "       -1., -1., -1.,  1.])"
      ]
     },
     "execution_count": 6,
     "metadata": {},
     "output_type": "execute_result"
    }
   ],
   "source": [
    "y"
   ]
  },
  {
   "cell_type": "markdown",
   "metadata": {},
   "source": [
    "## Prep the parameters for cvxopt solver\n"
   ]
  },
  {
   "cell_type": "code",
   "execution_count": 7,
   "metadata": {},
   "outputs": [],
   "source": [
    "from cvxopt import matrix,solvers\n",
    "\n",
    "P = eye(d+1)\n",
    "P[0,0] = 0\n",
    "P = matrix(P)\n",
    "\n",
    "q = zeros(d+1)\n",
    "q = matrix(q)\n",
    "\n",
    "G = (-X*y).T\n",
    "G = matrix(G)\n",
    "\n",
    "h = -ones(n)\n",
    "h = matrix(h)"
   ]
  },
  {
   "cell_type": "markdown",
   "metadata": {},
   "source": [
    "## Solve the problem"
   ]
  },
  {
   "cell_type": "code",
   "execution_count": 16,
   "metadata": {},
   "outputs": [
    {
     "name": "stdout",
     "output_type": "stream",
     "text": [
      "     pcost       dcost       gap    pres   dres\n",
      " 0:  2.2708e+00  2.7401e+01  7e+01  2e+00  9e+00\n",
      " 1:  9.4905e+00  2.4199e+01  3e+01  9e-01  4e+00\n",
      " 2:  2.5870e+01  8.9932e+01  3e+01  7e-01  3e+00\n",
      " 3:  6.8886e+01  1.3759e+02  6e+01  5e-01  2e+00\n",
      " 4:  1.8247e+02  1.9089e+02  4e+01  1e-01  5e-01\n",
      " 5:  2.0066e+02  2.0052e+02  7e-01  1e-03  6e-03\n",
      " 6:  2.0083e+02  2.0083e+02  7e-03  1e-05  7e-05\n",
      " 7:  2.0084e+02  2.0084e+02  7e-05  1e-07  7e-07\n",
      " 8:  2.0084e+02  2.0084e+02  7e-07  1e-09  7e-09\n",
      "Optimal solution found.\n"
     ]
    }
   ],
   "source": [
    "sol=solvers.qp(P,q,G,h)"
   ]
  },
  {
   "cell_type": "code",
   "execution_count": 17,
   "metadata": {},
   "outputs": [
    {
     "data": {
      "text/plain": [
       "dict"
      ]
     },
     "execution_count": 17,
     "metadata": {},
     "output_type": "execute_result"
    }
   ],
   "source": [
    "type(sol)"
   ]
  },
  {
   "cell_type": "code",
   "execution_count": 24,
   "metadata": {},
   "outputs": [
    {
     "data": {
      "text/plain": [
       "dict_keys(['primal objective', 'y', 'iterations', 'gap', 'primal slack', 'relative gap', 'primal infeasibility', 'z', 'status', 'dual infeasibility', 'dual slack', 'x', 'dual objective', 's'])"
      ]
     },
     "execution_count": 24,
     "metadata": {},
     "output_type": "execute_result"
    }
   ],
   "source": [
    "sol.keys()"
   ]
  },
  {
   "cell_type": "code",
   "execution_count": 25,
   "metadata": {
    "collapsed": true
   },
   "outputs": [],
   "source": [
    "W = array(sol['x']).reshape(d+1)"
   ]
  },
  {
   "cell_type": "markdown",
   "metadata": {},
   "source": [
    "## Plot the solution\n"
   ]
  },
  {
   "cell_type": "code",
   "execution_count": 26,
   "metadata": {
    "scrolled": true
   },
   "outputs": [
    {
     "data": {
      "image/png": "iVBORw0KGgoAAAANSUhEUgAAAQQAAAD8CAYAAACRvtrKAAAABHNCSVQICAgIfAhkiAAAAAlwSFlz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\nICJF/w/yIs2grGqVogAAAABJRU5ErkJggg==\n",
      "text/plain": [
       "<matplotlib.figure.Figure at 0x7faee4cc9898>"
      ]
     },
     "metadata": {},
     "output_type": "display_data"
    }
   ],
   "source": [
    "subplot(111,aspect=1)\n",
    "plot(xp[0],xp[1],'ro')\n",
    "plot(xm[0],xm[1],'bo');\n",
    "# We are given X and y ONLY!!\n",
    "\n",
    "def drawline(W,color='g',alpha=1.):\n",
    "    plot([0,1],[-W[0]/W[2],-(W[0]+W[1])/W[2]],color=color,alpha=alpha)\n",
    "\n",
    "drawline(W,color='b')"
   ]
  },
 ],
 "metadata": {
  "kernelspec": {
   "display_name": "Python 3",
   "language": "python",
   "name": "python3"
  },
  "language_info": {
   "codemirror_mode": {
    "name": "ipython",
    "version": 3
   },
   "file_extension": ".py",
   "mimetype": "text/x-python",
   "name": "python",
   "nbconvert_exporter": "python",
   "pygments_lexer": "ipython3",
   "version": "3.5.2"
  }
 },
 "nbformat": 4,
 "nbformat_minor": 2
}
