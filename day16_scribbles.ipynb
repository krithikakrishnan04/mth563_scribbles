{
 "cells": [
  {
   "cell_type": "markdown",
   "metadata": {},
   "source": [
    "# Support Vector Machine (SVM)\n",
    "\n",
    "The maximum margin classifier as the solution of a **quadratic programming** problem\n"
   ]
  },
  {
   "cell_type": "markdown",
   "metadata": {},
   "source": [
    "## First cook up some data to test it on:\n"
   ]
  },
  {
   "cell_type": "code",
   "execution_count": 11,
   "metadata": {},
   "outputs": [],
   "source": [
    "from numpy import *\n",
    "d = 2\n",
    "n = 30\n",
    "x = random.rand(d,n)\n",
    "X = empty((d+1,n))\n",
    "X[0,:] = 1\n",
    "X[1:,:] = x\n",
    "W = array([-1,-2,3.])\n",
    "y = sign(dot(W,X))\n",
    "# let's open up a little space between the classes\n",
    "halfgap = 0.05\n",
    "X[-1,y>0] += halfgap\n",
    "X[-1,y<0] -= halfgap\n",
    "xp = X[1:,y>0]\n",
    "xm = X[1:,y<0] \n"
   ]
  },
  {
   "cell_type": "code",
   "execution_count": 12,
   "metadata": {},
   "outputs": [
    {
     "name": "stdout",
     "output_type": "stream",
     "text": [
      "Populating the interactive namespace from numpy and matplotlib\n"
     ]
    }
   ],
   "source": [
    "%pylab inline\n"
   ]
  },
  {
   "cell_type": "code",
   "execution_count": 13,
   "metadata": {},
   "outputs": [
    {
     "data": {
      "image/png": "[encoded data removed]",
      "text/plain": [
       "<matplotlib.figure.Figure at 0x7f2bfba74668>"
      ]
     },
     "metadata": {},
     "output_type": "display_data"
    }
   ],
   "source": [
    "subplot(111,aspect=1)\n",
    "plot(xp[0],xp[1],'ro')\n",
    "plot(xm[0],xm[1],'bo');\n",
    "# We are given X and y ONLY!!\n",
    "\n",
    "def drawline(W,color='g',alpha=1.):\n",
    "    plot([0,1],[-W[0]/W[2],-(W[0]+W[1])/W[2]],color=color,alpha=alpha)\n",
    "    "
   ]
  },
  {
   "cell_type": "code",
   "execution_count": 14,
   "metadata": {},
   "outputs": [
    {
     "data": {
      "text/plain": [
       "array([[ 0.37948261,  0.26368053,  0.77329343,  0.00705967,  0.91108966,\n",
       "         0.81639995,  0.43079722,  0.28373385,  0.96029526,  0.30263398,\n",
       "         0.40288347,  0.23519332,  0.81069208,  0.74725247,  0.50601166,\n",
       "         0.23812116,  0.94262789,  0.2121248 ,  0.64764475,  0.23045994,\n",
       "         0.54902053,  0.9579257 ,  0.32233416,  0.25466572,  0.00144753,\n",
       "         0.7620377 ,  0.45965321,  0.51037146,  0.59409507,  0.37620209],\n",
       "       [ 0.4475895 ,  0.6054728 ,  0.06865211,  0.04062139,  0.23484831,\n",
       "         0.39670707,  0.96937925,  0.59859495,  0.71719583,  0.82071086,\n",
       "         0.03454199,  0.80154521,  0.72888295,  0.37345218,  0.52653237,\n",
       "         0.71031819,  0.73077613,  0.15085573,  0.82732658,  0.99297661,\n",
       "         0.58397624,  0.49479998,  0.31023866,  0.73891164,  0.15176565,\n",
       "         0.28432721,  0.40347752,  0.52854065,  0.39097946,  0.74188984]])"
      ]
     },
     "execution_count": 14,
     "metadata": {},
     "output_type": "execute_result"
    }
   ],
   "source": [
    "x"
   ]
  },
  {
   "cell_type": "code",
   "execution_count": 15,
   "metadata": {},
   "outputs": [
    {
     "data": {
      "text/plain": [
       "array([-1.,  1., -1., -1., -1., -1.,  1.,  1., -1.,  1., -1.,  1., -1.,\n",
       "       -1., -1.,  1., -1., -1.,  1.,  1., -1., -1., -1.,  1., -1., -1.,\n",
       "       -1., -1., -1.,  1.])"
      ]
     },
     "execution_count": 15,
     "metadata": {},
     "output_type": "execute_result"
    }
   ],
   "source": [
    "y"
   ]
  },
  {
   "cell_type": "markdown",
   "metadata": {},
   "source": [
    "## Prep the parameters for cvxopt solver\n"
   ]
  },
  {
   "cell_type": "code",
   "execution_count": 16,
   "metadata": {
    "collapsed": true
   },
   "outputs": [],
   "source": [
    "from cvxopt import matrix,solvers\n",
    "\n",
    "P = eye(d+1)\n",
    "P[0,0] = 0\n",
    "P = matrix(P)\n",
    "\n",
    "q = zeros(d+1)\n",
    "q = matrix(q)\n",
    "\n",
    "G = (-X*y).T\n",
    "G = matrix(G)\n",
    "\n",
    "h = -ones(n)\n",
    "h = matrix(h)"
   ]
  },
  {
   "cell_type": "code",
   "execution_count": null,
   "metadata": {
    "collapsed": true
   },
   "outputs": [],
   "source": []
  }
 ],
 "metadata": {
  "kernelspec": {
   "display_name": "Python 3",
   "language": "python",
   "name": "python3"
  },
  "language_info": {
   "codemirror_mode": {
    "name": "ipython",
    "version": 3
   },
   "file_extension": ".py",
   "mimetype": "text/x-python",
   "name": "python",
   "nbconvert_exporter": "python",
   "pygments_lexer": "ipython3",
   "version": "3.5.2"
  }
 },
 "nbformat": 4,
 "nbformat_minor": 2
}
